{
 "cells": [
  {
   "cell_type": "code",
   "execution_count": 1,
   "id": "cca8b8db",
   "metadata": {},
   "outputs": [
    {
     "name": "stdout",
     "output_type": "stream",
     "text": [
      "Requirement already satisfied: pytesseract in c:\\users\\user\\anaconda3\\lib\\site-packages (0.3.10)\n",
      "Requirement already satisfied: packaging>=21.3 in c:\\users\\user\\anaconda3\\lib\\site-packages (from pytesseract) (21.3)\n",
      "Requirement already satisfied: Pillow>=8.0.0 in c:\\users\\user\\anaconda3\\lib\\site-packages (from pytesseract) (9.2.0)\n",
      "Requirement already satisfied: pyparsing!=3.0.5,>=2.0.2 in c:\\users\\user\\anaconda3\\lib\\site-packages (from packaging>=21.3->pytesseract) (3.0.9)\n"
     ]
    }
   ],
   "source": [
    "!pip install pytesseract\n",
    "\n"
   ]
  },
  {
   "cell_type": "code",
   "execution_count": 2,
   "id": "cf017f87",
   "metadata": {},
   "outputs": [],
   "source": [
    "import pytesseract\n",
    "pytesseract.pytesseract.tesseract_cmd=r'C:\\Program Files\\Tesseract-OCR\\tesseract.exe'"
   ]
  },
  {
   "cell_type": "code",
   "execution_count": 3,
   "id": "2ec69053",
   "metadata": {},
   "outputs": [],
   "source": [
    "import cv2\n",
    "import numpy as np"
   ]
  },
  {
   "cell_type": "code",
   "execution_count": 7,
   "id": "18739721",
   "metadata": {},
   "outputs": [],
   "source": [
    "img=cv2.imread(r'D:\\DATA_SCIENCE_NIT\\Tessaract\\7.jpg')\n",
    "cv2.imshow('sample image',img)\n",
    "cv2.waitKey(0)\n",
    "cv2.destroyAllWindows()\n"
   ]
  },
  {
   "cell_type": "code",
   "execution_count": 8,
   "id": "cb28dbf0",
   "metadata": {},
   "outputs": [],
   "source": [
    "#img"
   ]
  },
  {
   "cell_type": "code",
   "execution_count": 9,
   "id": "dd4033e6",
   "metadata": {},
   "outputs": [
    {
     "name": "stdout",
     "output_type": "stream",
     "text": [
      "Sov @ ®@ @\n",
      "\n",
      "STOP NO ENTRY GIVE WAY ALL MOTOR\n",
      "\n",
      "VEHICLES PROHIBITED MOTORCYCLES situs\n",
      "\n",
      "eo OO ®® @\n",
      "\n",
      "NO BULLOCK NO HEAVY ONE - WAY NO STRAIGHT — NO VEHICLES IN NO LEFT\n",
      "CARTS VEHICLES TRAFFIC AHEAD BOTH DIRECTION TURN\n",
      "\n",
      "OMB ® ®\n",
      "\n",
      "NO RIGHT HEIGH LIMIT ==» SPEED LIMIT. = WEIGHT LIMIT\n",
      "TURN te Wl ui\n",
      "\n",
      "QOE®S@AA\n",
      "\n",
      "LENGHT LIMIT NO PARKING HORN LEFT CURVE RIGHT CURVE\n",
      "PROHIBITED PEDESTRUNS\n",
      "\n",
      "A, & 2 A A A\n",
      "\n",
      "TRAFFIC SIGNALS cease tH UNEVEN Ue GROSSING TOUT NARROW ROUNDABOUT\n",
      "AHEAD ROAD BARRIER AEA BRIDGE AHEAD\n",
      "\n"
     ]
    }
   ],
   "source": [
    "text=pytesseract.image_to_string(img)\n",
    "print(text)"
   ]
  },
  {
   "cell_type": "code",
   "execution_count": null,
   "id": "871b76c4",
   "metadata": {},
   "outputs": [],
   "source": []
  },
  {
   "cell_type": "code",
   "execution_count": null,
   "id": "96eebc2d",
   "metadata": {},
   "outputs": [],
   "source": []
  }
 ],
 "metadata": {
  "kernelspec": {
   "display_name": "Python 3 (ipykernel)",
   "language": "python",
   "name": "python3"
  },
  "language_info": {
   "codemirror_mode": {
    "name": "ipython",
    "version": 3
   },
   "file_extension": ".py",
   "mimetype": "text/x-python",
   "name": "python",
   "nbconvert_exporter": "python",
   "pygments_lexer": "ipython3",
   "version": "3.9.13"
  }
 },
 "nbformat": 4,
 "nbformat_minor": 5
}
